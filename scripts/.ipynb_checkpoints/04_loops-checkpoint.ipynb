{
 "cells": [
  {
   "cell_type": "code",
   "execution_count": 10,
   "metadata": {},
   "outputs": [],
   "source": [
    "import pandas"
   ]
  },
  {
   "cell_type": "code",
   "execution_count": 2,
   "metadata": {},
   "outputs": [
    {
     "data": {
      "text/plain": [
       "[2, 3, 'a', [2, 5]]"
      ]
     },
     "execution_count": 2,
     "metadata": {},
     "output_type": "execute_result"
    }
   ],
   "source": [
    "[2, 3, 'a']\n",
    "# create a list (can contain any type of variable)\n",
    "[2, 3, 'a', [2,5]]\n",
    "# list within a list"
   ]
  },
  {
   "cell_type": "code",
   "execution_count": 5,
   "metadata": {},
   "outputs": [],
   "source": [
    "mylist = [2, 3, 'a', [2,5]]"
   ]
  },
  {
   "cell_type": "code",
   "execution_count": 6,
   "metadata": {},
   "outputs": [
    {
     "name": "stdout",
     "output_type": "stream",
     "text": [
      "2\n",
      "3\n",
      "a\n",
      "[2, 5]\n"
     ]
    }
   ],
   "source": [
    "for i in mylist:\n",
    "    print(i)\n",
    "    # in a loop you have to give your loop variable a name, very often people choose \"i\" but this is not very informative (might make it difficult to understand your script if you go back to it after a while)\n",
    "    # a loop only works if you have the indentation!!"
   ]
  },
  {
   "cell_type": "code",
   "execution_count": 7,
   "metadata": {},
   "outputs": [],
   "source": [
    "filenames = [\"../data/gapminder_gdp_europe.csv\", \"../data/gapminder_gdp_asia.csv\"]"
   ]
  },
  {
   "cell_type": "code",
   "execution_count": 13,
   "metadata": {},
   "outputs": [
    {
     "name": "stdout",
     "output_type": "stream",
     "text": [
      "../data/gapminder_gdp_europe.csv\n",
      "                        gdpPercap_1952  gdpPercap_1957  gdpPercap_1962  \\\n",
      "country                                                                  \n",
      "Albania                    1601.056136     1942.284244     2312.888958   \n",
      "Austria                    6137.076492     8842.598030    10750.721110   \n",
      "Belgium                    8343.105127     9714.960623    10991.206760   \n",
      "Bosnia and Herzegovina      973.533195     1353.989176     1709.683679   \n",
      "Bulgaria                   2444.286648     3008.670727     4254.337839   \n",
      "\n",
      "                        gdpPercap_1967  gdpPercap_1972  gdpPercap_1977  \\\n",
      "country                                                                  \n",
      "Albania                    2760.196931     3313.422188     3533.003910   \n",
      "Austria                   12834.602400    16661.625600    19749.422300   \n",
      "Belgium                   13149.041190    16672.143560    19117.974480   \n",
      "Bosnia and Herzegovina     2172.352423     2860.169750     3528.481305   \n",
      "Bulgaria                   5577.002800     6597.494398     7612.240438   \n",
      "\n",
      "                        gdpPercap_1982  gdpPercap_1987  gdpPercap_1992  \\\n",
      "country                                                                  \n",
      "Albania                    3630.880722     3738.932735     2497.437901   \n",
      "Austria                   21597.083620    23687.826070    27042.018680   \n",
      "Belgium                   20979.845890    22525.563080    25575.570690   \n",
      "Bosnia and Herzegovina     4126.613157     4314.114757     2546.781445   \n",
      "Bulgaria                   8224.191647     8239.854824     6302.623438   \n",
      "\n",
      "                        gdpPercap_1997  gdpPercap_2002  gdpPercap_2007  \n",
      "country                                                                 \n",
      "Albania                    3193.054604     4604.211737     5937.029526  \n",
      "Austria                   29095.920660    32417.607690    36126.492700  \n",
      "Belgium                   27561.196630    30485.883750    33692.605080  \n",
      "Bosnia and Herzegovina     4766.355904     6018.975239     7446.298803  \n",
      "Bulgaria                   5970.388760     7696.777725    10680.792820  \n",
      "../data/gapminder_gdp_asia.csv\n",
      "             gdpPercap_1952  gdpPercap_1957  gdpPercap_1962  gdpPercap_1967  \\\n",
      "country                                                                       \n",
      "Afghanistan      779.445314      820.853030      853.100710      836.197138   \n",
      "Bahrain         9867.084765    11635.799450    12753.275140    14804.672700   \n",
      "Bangladesh       684.244172      661.637458      686.341554      721.186086   \n",
      "Cambodia         368.469286      434.038336      496.913648      523.432314   \n",
      "China            400.448611      575.987001      487.674018      612.705693   \n",
      "\n",
      "             gdpPercap_1972  gdpPercap_1977  gdpPercap_1982  gdpPercap_1987  \\\n",
      "country                                                                       \n",
      "Afghanistan      739.981106      786.113360      978.011439      852.395945   \n",
      "Bahrain        18268.658390    19340.101960    19211.147310    18524.024060   \n",
      "Bangladesh       630.233627      659.877232      676.981866      751.979403   \n",
      "Cambodia         421.624026      524.972183      624.475478      683.895573   \n",
      "China            676.900092      741.237470      962.421380     1378.904018   \n",
      "\n",
      "             gdpPercap_1992  gdpPercap_1997  gdpPercap_2002  gdpPercap_2007  \n",
      "country                                                                      \n",
      "Afghanistan      649.341395      635.341351      726.734055      974.580338  \n",
      "Bahrain        19035.579170    20292.016790    23403.559270    29796.048340  \n",
      "Bangladesh       837.810164      972.770035     1136.390430     1391.253792  \n",
      "Cambodia         682.303175      734.285170      896.226015     1713.778686  \n",
      "China           1655.784158     2289.234136     3119.280896     4959.114854  \n"
     ]
    }
   ],
   "source": [
    "for filename in filenames:\n",
    "    # we use the more descriptive \"filename\" for our loop variable instead of \"i\"\n",
    "    print(filename)\n",
    "    data = pandas.read_csv(filename, index_col = 'country')\n",
    "    # you can use Shift+Tab to find the right options or arguments for your function\n",
    "    print(data.head())"
   ]
  },
  {
   "cell_type": "code",
   "execution_count": 15,
   "metadata": {},
   "outputs": [
    {
     "name": "stdout",
     "output_type": "stream",
     "text": [
      "1\n",
      "2\n",
      "3\n",
      "4\n",
      "5\n",
      "6\n",
      "7\n",
      "8\n",
      "9\n"
     ]
    }
   ],
   "source": [
    "for counter in range(1, 10):\n",
    "    # use a range instead of writing a list from 1 to 10 yourself (use round brackets!)\n",
    "    print(counter)"
   ]
  },
  {
   "cell_type": "code",
   "execution_count": 16,
   "metadata": {},
   "outputs": [
    {
     "name": "stdout",
     "output_type": "stream",
     "text": [
      "12\n"
     ]
    }
   ],
   "source": [
    "# Calculate total length of the strings in the list: [\"red\", \"green\", \"blue\"], it should be 12\n",
    "total = 0\n",
    "for word in [\"red\", \"green\", \"blue\"]:\n",
    "    total = total + len(word)\n",
    "    # accumulater loop\n",
    "print(total)"
   ]
  },
  {
   "cell_type": "code",
   "execution_count": 17,
   "metadata": {},
   "outputs": [
    {
     "data": {
      "text/plain": [
       "['red', 'green', 'blue']"
      ]
     },
     "execution_count": 17,
     "metadata": {},
     "output_type": "execute_result"
    }
   ],
   "source": [
    "a_list = [\"red\", \"green\", \"blue\"]\n",
    "a_list"
   ]
  },
  {
   "cell_type": "code",
   "execution_count": 18,
   "metadata": {},
   "outputs": [
    {
     "data": {
      "text/plain": [
       "['red', 'green', 'blue', 'orange']"
      ]
     },
     "execution_count": 18,
     "metadata": {},
     "output_type": "execute_result"
    }
   ],
   "source": [
    "a_list.append(\"orange\")\n",
    "a_list"
   ]
  },
  {
   "cell_type": "code",
   "execution_count": 26,
   "metadata": {},
   "outputs": [
    {
     "name": "stdout",
     "output_type": "stream",
     "text": [
      "[3]\n",
      "[3, 5]\n",
      "[3, 5, 4]\n"
     ]
    }
   ],
   "source": [
    "# List of word lengths: [\"red\", \"green\", \"blue\"] => [3, 5, 4]\n",
    "lengths = []\n",
    "for word in [\"red\", \"green\", \"blue\"]:\n",
    "    lengths.append(len(word))\n",
    "    print(lengths)"
   ]
  },
  {
   "cell_type": "code",
   "execution_count": 25,
   "metadata": {},
   "outputs": [
    {
     "name": "stdout",
     "output_type": "stream",
     "text": [
      "[3, 5, 4]\n"
     ]
    }
   ],
   "source": [
    "# List of word lengths: [\"red\", \"green\", \"blue\"] => [3, 5, 4]\n",
    "lengths = []\n",
    "# start from something empty\n",
    "for word in [\"red\", \"green\", \"blue\"]:\n",
    "    lengths.append(len(word))\n",
    "    # extend by using the appending function\n",
    "print(lengths)"
   ]
  },
  {
   "cell_type": "code",
   "execution_count": 27,
   "metadata": {},
   "outputs": [],
   "source": [
    "filenames = [\"../data/gapminder_gdp_europe.csv\", \"../data/gapminder_gdp_asia.csv\"]\n",
    "# how can we automatically create this kind of list of files (imagine you have 2000 files or that the filenames may change over time)? > import glob\n",
    "\n",
    "import glob"
   ]
  },
  {
   "cell_type": "code",
   "execution_count": 28,
   "metadata": {},
   "outputs": [],
   "source": [
    "?glob.glob"
   ]
  },
  {
   "cell_type": "code",
   "execution_count": 30,
   "metadata": {},
   "outputs": [
    {
     "data": {
      "text/plain": [
       "['../data/']"
      ]
     },
     "execution_count": 30,
     "metadata": {},
     "output_type": "execute_result"
    }
   ],
   "source": [
    "glob.glob(\"../data/\")"
   ]
  },
  {
   "cell_type": "code",
   "execution_count": 31,
   "metadata": {},
   "outputs": [
    {
     "data": {
      "text/plain": [
       "['../data/gapminder_gdp_americas.csv',\n",
       " '../data/gapminder_gdp_europe.csv',\n",
       " '../data/gapminder_all.csv',\n",
       " '../data/gapminder_gdp_oceania.csv',\n",
       " '../data/gapminder_gdp_africa.csv',\n",
       " '../data/gapminder_gdp_asia.csv']"
      ]
     },
     "execution_count": 31,
     "metadata": {},
     "output_type": "execute_result"
    }
   ],
   "source": [
    "glob.glob(\"../data/*\")\n",
    "# this will make a list of the all files in the data folder because you used the * wildcard"
   ]
  },
  {
   "cell_type": "code",
   "execution_count": 32,
   "metadata": {},
   "outputs": [
    {
     "name": "stdout",
     "output_type": "stream",
     "text": [
      "../data/gapminder_gdp_americas.csv\n",
      "../data/gapminder_gdp_europe.csv\n",
      "../data/gapminder_all.csv\n",
      "../data/gapminder_gdp_oceania.csv\n",
      "../data/gapminder_gdp_africa.csv\n",
      "../data/gapminder_gdp_asia.csv\n"
     ]
    }
   ],
   "source": [
    "for filename in glob.glob(\"../data/*\"):\n",
    "    print(filename)"
   ]
  },
  {
   "cell_type": "code",
   "execution_count": 33,
   "metadata": {},
   "outputs": [
    {
     "name": "stdout",
     "output_type": "stream",
     "text": [
      "../data/gapminder_gdp_americas.csv\n",
      "../data/gapminder_gdp_europe.csv\n",
      "../data/gapminder_all.csv\n",
      "../data/gapminder_gdp_oceania.csv\n",
      "../data/gapminder_gdp_africa.csv\n",
      "../data/gapminder_gdp_asia.csv\n"
     ]
    }
   ],
   "source": [
    "for filename in glob.glob(\"../data/*.csv\"):\n",
    "    # select all the .csv files\n",
    "    print(filename)"
   ]
  },
  {
   "cell_type": "code",
   "execution_count": 34,
   "metadata": {},
   "outputs": [
    {
     "name": "stdout",
     "output_type": "stream",
     "text": [
      "../data/gapminder_all.csv\n"
     ]
    }
   ],
   "source": [
    "for filename in glob.glob(\"../data/*all.csv\"):\n",
    "    print(filename)"
   ]
  },
  {
   "cell_type": "code",
   "execution_count": 35,
   "metadata": {},
   "outputs": [
    {
     "name": "stdout",
     "output_type": "stream",
     "text": [
      "../data/gapminder_gdp_americas.csv\n",
      "../data/gapminder_gdp_europe.csv\n",
      "../data/gapminder_gdp_oceania.csv\n",
      "../data/gapminder_gdp_africa.csv\n",
      "../data/gapminder_gdp_asia.csv\n"
     ]
    }
   ],
   "source": [
    "for filename in glob.glob(\"../data/*gdp*.csv\"):\n",
    "    # select all files except gapminder_all.csv\n",
    "    print(filename)"
   ]
  },
  {
   "cell_type": "code",
   "execution_count": null,
   "metadata": {},
   "outputs": [],
   "source": []
  }
 ],
 "metadata": {
  "kernelspec": {
   "display_name": "Python 3",
   "language": "python",
   "name": "python3"
  },
  "language_info": {
   "codemirror_mode": {
    "name": "ipython",
    "version": 3
   },
   "file_extension": ".py",
   "mimetype": "text/x-python",
   "name": "python",
   "nbconvert_exporter": "python",
   "pygments_lexer": "ipython3",
   "version": "3.7.0"
  }
 },
 "nbformat": 4,
 "nbformat_minor": 2
}
